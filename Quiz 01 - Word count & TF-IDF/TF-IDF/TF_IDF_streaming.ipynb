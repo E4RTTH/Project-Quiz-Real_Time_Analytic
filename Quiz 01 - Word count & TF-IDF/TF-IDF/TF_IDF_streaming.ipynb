{
  "nbformat": 4,
  "nbformat_minor": 0,
  "metadata": {
    "colab": {
      "name": "TF-IDF streaming.ipynb",
      "provenance": [],
      "collapsed_sections": []
    },
    "kernelspec": {
      "name": "python3",
      "display_name": "Python 3"
    },
    "language_info": {
      "name": "python"
    }
  },
  "cells": [
    {
      "cell_type": "code",
      "metadata": {
        "id": "NX3qY84P4aHy"
      },
      "source": [
        "!apt-get install openjdk-8-jdk-headless -qq > /dev/null\n",
        "!wget https://downloads.apache.org/spark/spark-2.4.8/spark-2.4.8-bin-hadoop2.7.tgz\n",
        "!tar -xvf spark-2.4.8-bin-hadoop2.7.tgz\n",
        "!pip install findspark\n",
        "!pip install pyspark\n",
        "!wget \"https://repo1.maven.org/maven2/org/apache/spark/spark-streaming-kafka-0-8-assembly_2.11/2.4.8/spark-streaming-kafka-0-8-assembly_2.11-2.4.8.jar\"\n",
        "import os\n",
        "os.environ[\"JAVA_HOME\"] = \"/usr/lib/jvm/java-8-openjdk-amd64\"\n",
        "os.environ[\"SPARK_HOME\"] = \"/content/spark-2.4.8-bin-hadoop2.7\"\n",
        "os.environ['PYSPARK_SUBMIT_ARGS'] = '--jars /content/spark-streaming-kafka-0-8-assembly_2.11-2.4.8.jar pyspark-shell'"
      ],
      "execution_count": null,
      "outputs": []
    },
    {
      "cell_type": "code",
      "metadata": {
        "id": "PxZfjj-n9sAu"
      },
      "source": [
        "import findspark\n",
        "findspark.init()"
      ],
      "execution_count": 18,
      "outputs": []
    },
    {
      "cell_type": "code",
      "metadata": {
        "id": "qik26EJg4RZy"
      },
      "source": [
        "from pyspark.sql import SparkSession\n",
        "from pyspark.sql.functions import *\n",
        "from pyspark.ml.feature import Normalizer, StandardScaler\n",
        "import random\n",
        "import pyspark\n",
        "import sys\n",
        "from pyspark import SparkContext, SparkConf\n",
        "from pyspark.streaming import StreamingContext\n",
        "from pyspark.streaming.kafka import KafkaUtils\n",
        "from uuid import uuid1\n",
        "import time\n",
        "import math\n",
        "from pyspark.sql.functions import *\n",
        "import pandas as pd"
      ],
      "execution_count": 19,
      "outputs": []
    },
    {
      "cell_type": "code",
      "metadata": {
        "id": "sQrt3sVqJ9Hr"
      },
      "source": [
        "kafka_topic_name = \"harry-potter-kvs\"\n",
        "kafka_bootstrap_servers = 'ec2-13-229-46-113.ap-southeast-1.compute.amazonaws.com:9092'"
      ],
      "execution_count": 20,
      "outputs": []
    },
    {
      "cell_type": "code",
      "metadata": {
        "id": "GfqR5wPH8K47"
      },
      "source": [
        "sc = pyspark.SparkContext()\n",
        "ssc = StreamingContext(sc,20)"
      ],
      "execution_count": 165,
      "outputs": []
    },
    {
      "cell_type": "code",
      "metadata": {
        "id": "BavudqOjCWW2"
      },
      "source": [
        "kvs = KafkaUtils.createStream(ssc, kafka_bootstrap_servers, 'spark-streaming-consumer', {kafka_topic_name:1}) \n",
        "kvs = KafkaUtils.createDirectStream(ssc, [kafka_topic_name], {\"metadata.broker.list\": kafka_bootstrap_servers})\n",
        "kvs = KafkaUtils.createDirectStream(ssc, [kafka_topic_name], {\n",
        "                        'bootstrap.servers':kafka_bootstrap_servers,\n",
        "                        'group.id':'test-group',\n",
        "                        'auto.offset.reset':'largest'})"
      ],
      "execution_count": 166,
      "outputs": []
    },
    {
      "cell_type": "code",
      "metadata": {
        "id": "K8KT7fv0YilD"
      },
      "source": [
        "w = kvs.window(20)\n",
        "count = w.count()\n",
        "\n",
        "# map1 = w.flatMap(lambda x: [((x[0],i),1) for i in x[1].split()])\n",
        "# reduce = map1.reduceByKey(lambda x,y:x+y)\n",
        "# tf = reduce.map(lambda x: (x[0][1],(x[0][0],x[1])))\n",
        "\n",
        "count.pprint()"
      ],
      "execution_count": 158,
      "outputs": []
    },
    {
      "cell_type": "code",
      "metadata": {
        "id": "wZMoSbAyBjK8"
      },
      "source": [
        "w = kvs.window(20)\n",
        "\n",
        "count = w.count()\n",
        "\n",
        "map1 = w.flatMap(lambda x: [((x[0],i),1) for i in x[1].split()])\n",
        "\n",
        "reduce = map1.reduceByKey(lambda x,y:x+y)\n",
        "\n",
        "tf = reduce.map(lambda x: (x[0][1],(x[0][0],x[1])))\n",
        "\n",
        "map3 = reduce.map(lambda x: (x[0][1],(x[0][0],x[1],1)))\n",
        "\n",
        "map4 = map3.map(lambda x:(x[0],x[1][2]))\n",
        "\n",
        "reduce2 = map4.reduceByKey(lambda x,y:x+y)\n",
        "\n",
        "idf=reduce2.map(lambda x: (x[0],math.log10(347/x[1])))\n",
        "\n",
        "rdd=tf.join(idf)\n",
        "\n",
        "rdd=rdd.map(lambda x: (x[1][0][0],(x[0],x[1][0][1],x[1][1],x[1][0][1]*x[1][1])))\n",
        "\n",
        "rdd=rdd.map(lambda x: (x[0],x[1][0],x[1][1],x[1][2],x[1][3]))\n",
        "\n",
        "count.pprint()\n",
        "rdd.pprint()"
      ],
      "execution_count": 167,
      "outputs": []
    },
    {
      "cell_type": "code",
      "metadata": {
        "colab": {
          "base_uri": "https://localhost:8080/"
        },
        "id": "y3b2Pf25BiTn",
        "outputId": "8147d23d-5a85-42f8-c5ad-e9ab4d9cd816"
      },
      "source": [
        "ssc.start()\n",
        "\n",
        "# stream will run for 120 sec\n",
        "ssc.awaitTerminationOrTimeout(100)"
      ],
      "execution_count": 168,
      "outputs": [
        {
          "output_type": "stream",
          "name": "stdout",
          "text": [
            "-------------------------------------------\n",
            "Time: 2021-09-24 15:55:00\n",
            "-------------------------------------------\n",
            "347\n",
            "\n",
            "-------------------------------------------\n",
            "Time: 2021-09-24 15:55:00\n",
            "-------------------------------------------\n",
            "('page5', '4', 1, 2.0632082200712114, 2.0632082200712114)\n",
            "('page37', '4', 1, 2.0632082200712114, 2.0632082200712114)\n",
            "('page42', '4', 1, 2.0632082200712114, 2.0632082200712114)\n",
            "('page5', 'calls', 1, 2.2392994791268923, 2.2392994791268923)\n",
            "('page44', 'calls', 1, 2.2392994791268923, 2.2392994791268923)\n",
            "('page5', 'shouted', 1, 1.461148228743249, 1.461148228743249)\n",
            "('page27', 'shouted', 1, 1.461148228743249, 1.461148228743249)\n",
            "('page38', 'shouted', 1, 1.461148228743249, 1.461148228743249)\n",
            "('page43', 'shouted', 1, 1.461148228743249, 1.461148228743249)\n",
            "('page254', 'shouted', 1, 1.461148228743249, 1.461148228743249)\n",
            "...\n",
            "\n",
            "-------------------------------------------\n",
            "Time: 2021-09-24 15:55:20\n",
            "-------------------------------------------\n",
            "0\n",
            "\n",
            "-------------------------------------------\n",
            "Time: 2021-09-24 15:55:20\n",
            "-------------------------------------------\n",
            "\n",
            "-------------------------------------------\n",
            "Time: 2021-09-24 15:55:40\n",
            "-------------------------------------------\n",
            "0\n",
            "\n",
            "-------------------------------------------\n",
            "Time: 2021-09-24 15:55:40\n",
            "-------------------------------------------\n",
            "\n",
            "-------------------------------------------\n",
            "Time: 2021-09-24 15:56:00\n",
            "-------------------------------------------\n",
            "0\n",
            "\n",
            "-------------------------------------------\n",
            "Time: 2021-09-24 15:56:00\n",
            "-------------------------------------------\n",
            "\n",
            "-------------------------------------------\n",
            "Time: 2021-09-24 15:56:20\n",
            "-------------------------------------------\n",
            "0\n",
            "\n",
            "-------------------------------------------\n",
            "Time: 2021-09-24 15:56:20\n",
            "-------------------------------------------\n",
            "\n"
          ]
        },
        {
          "output_type": "execute_result",
          "data": {
            "text/plain": [
              "False"
            ]
          },
          "metadata": {},
          "execution_count": 168
        }
      ]
    },
    {
      "cell_type": "code",
      "metadata": {
        "id": "ePQQWVY8BHD2"
      },
      "source": [
        "ssc.stop()\n",
        "sc.stop()"
      ],
      "execution_count": 164,
      "outputs": []
    }
  ]
}