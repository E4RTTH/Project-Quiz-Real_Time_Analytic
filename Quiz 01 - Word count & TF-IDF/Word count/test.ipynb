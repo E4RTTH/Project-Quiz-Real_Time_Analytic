{
 "cells": [
  {
   "cell_type": "code",
   "execution_count": 2,
   "source": [
    "with open('Harry Potter.txt','r',encoding=\"utf-8\") as f:\r\n",
    "    read = f.readlines()"
   ],
   "outputs": [],
   "metadata": {}
  },
  {
   "cell_type": "code",
   "execution_count": 3,
   "source": [
    "print(type(read))"
   ],
   "outputs": [
    {
     "output_type": "stream",
     "name": "stdout",
     "text": [
      "<class 'list'>\n"
     ]
    }
   ],
   "metadata": {}
  },
  {
   "cell_type": "code",
   "execution_count": 8,
   "source": [
    "import time\r\n",
    "file_source = \"C:\\my_config\\/file-source.txt\"\r\n",
    "\r\n",
    "for i in range(7,14):\r\n",
    "    if read[i] != \"\\n\":\r\n",
    "        with open(file_source,'w') as file:\r\n",
    "            file.write(read[i])\r\n",
    "        # time.sleep(1)"
   ],
   "outputs": [],
   "metadata": {}
  }
 ],
 "metadata": {
  "orig_nbformat": 4,
  "language_info": {
   "name": "python",
   "version": "3.7.6",
   "mimetype": "text/x-python",
   "codemirror_mode": {
    "name": "ipython",
    "version": 3
   },
   "pygments_lexer": "ipython3",
   "nbconvert_exporter": "python",
   "file_extension": ".py"
  },
  "kernelspec": {
   "name": "python3",
   "display_name": "Python 3.7.6 64-bit ('base': conda)"
  },
  "interpreter": {
   "hash": "70f0fd084b457337d82969b1711abe1b68b6194bf7571eeaab7c899915ab56b2"
  }
 },
 "nbformat": 4,
 "nbformat_minor": 2
}